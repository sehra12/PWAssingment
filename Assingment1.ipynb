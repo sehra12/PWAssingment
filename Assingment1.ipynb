{
 "cells": [
  {
   "cell_type": "markdown",
   "id": "b82de040-86fc-40de-b477-b64013fe8da6",
   "metadata": {},
   "source": [
    "#  Q1. Create one variable containing following type of data:\n",
    "    (i) string\n",
    "    (ii) list\n",
    "    (iii) float\n",
    "    (iv) tuple"
   ]
  },
  {
   "cell_type": "code",
   "execution_count": 4,
   "id": "41cf7c49-92db-4af1-949e-ed03dcee80ce",
   "metadata": {},
   "outputs": [
    {
     "name": "stdout",
     "output_type": "stream",
     "text": [
      "Answer\n",
      "i) Name is an example of string \n",
      "ii) list1 is an example of list\n",
      "iii) Float is an example of float\n",
      "iv) Tuple is an example of tuple\n"
     ]
    }
   ],
   "source": [
    "# Answer1\n",
    "Name  = \"Saurabh\"\n",
    "list1 = [1,2,3,4,5,\"saurabh\",\"ramesh\"]\n",
    "Float = 3.26\n",
    "Tuple = (1,2,3,4,5,6)\n",
    "print(\"Answer\")\n",
    "print(\"i) Name is an example of string \")\n",
    "print(\"ii) list1 is an example of list\")\n",
    "print(\"iii) Float is an example of float\")\n",
    "print(\"iv) Tuple is an example of tuple\") \n"
   ]
  },
  {
   "cell_type": "markdown",
   "id": "aea05be0-d09d-4e4d-b489-0880cbe41ce4",
   "metadata": {},
   "source": [
    "# Q2. Given are some following variables containing data:\n",
    "    (i) var1 = \"  \"\n",
    "    (ii) var2 = ‘[ DS , ML , Python]’\n",
    "    (iii) var3 = [ ‘DS’ , ’ML’ , ‘Python’ ]\n",
    "    (iv) var4 = 1.\n",
    "    What will be the data type of the above given variable."
   ]
  },
  {
   "cell_type": "markdown",
   "id": "7e370d4c-79c0-40a0-aa33-80cebed9eaa1",
   "metadata": {},
   "source": [
    "# Answer2\n",
    "    (i) var1 is String datatype\n",
    "    (ii) var2 is string datatype\n",
    "    (iii) var3 is list datatype\n",
    "    (iV) Var4 is a float datatype"
   ]
  },
  {
   "cell_type": "markdown",
   "id": "96c28047-9488-4e9f-a6fa-8a350b51a2cd",
   "metadata": {},
   "source": [
    "# Q3. Explain the use of the following operators using an example:\n",
    "    (i) /\n",
    "    (ii) %\n",
    "    (iii) //\n",
    "    (iv) **"
   ]
  },
  {
   "cell_type": "markdown",
   "id": "6a53901f-3138-44f2-8e63-8b302ca96ce8",
   "metadata": {},
   "source": [
    "# Answer3\n",
    "    (i) / (Division operator): This operator is used to divide two operands and gives the quotient as the answer. For example, if we divide 10 by 2 using the division operator (/), we get 5 as the answer 1.\n",
    "\n",
    "    (ii) % (Modulus operator): This operator is used to find the remainder of two integers and gives the remainder after the division. For example, if we divide 10 by 3 using the modulus operator (%), we get 1 as the remainder 1.\n",
    "\n",
    "    (iii) // (Floor division operator): This operator is used to perform integer division and gives the quotient as the answer. The result of this operation is always an integer. For example, if we divide 10 by 3 using the floor division operator (//), we get 3 as the quotient 2.\n",
    "\n",
    "    (iv) ** (Exponentiation operator): This operator is used to raise a number to a power. For example, if we want to calculate 2 raised to the power of 3, we can use the exponentiation operator (**), which gives us 8 as the answer 1.\n",
    "\n"
   ]
  },
  {
   "cell_type": "markdown",
   "id": "c5e6590c-49ee-41b2-9f1c-f3884e465fa2",
   "metadata": {},
   "source": [
    "# Q4. Create a list of length 10 of your choice containing multiple types of data. Using for loop print the element and its data type."
   ]
  },
  {
   "cell_type": "code",
   "execution_count": 10,
   "id": "3f5ea9d5-337f-4f48-b847-b94bcf0c26c4",
   "metadata": {},
   "outputs": [
    {
     "name": "stdout",
     "output_type": "stream",
     "text": [
      "Element---------->Datatype\n",
      "0-----------> <class 'int'>\n",
      "1-----------> <class 'int'>\n",
      "2-----------> <class 'str'>\n",
      "3.0-----------> <class 'float'>\n",
      "True-----------> <class 'bool'>\n",
      "[1, 2, 3]-----------> <class 'list'>\n",
      "False-----------> <class 'bool'>\n",
      "{1, 2, 3}-----------> <class 'set'>\n",
      "(1, 1, 2, 3, 4, 5)-----------> <class 'tuple'>\n",
      "python-----------> <class 'str'>\n"
     ]
    }
   ],
   "source": [
    "# Answer\n",
    "List1 = [ 0, 1 , \"2\", 3.0 , True, [1,2,3] , False , {1,1,2,2,3,3} , (1,1,2,3,4,5) ,  \"python\"]\n",
    "\n",
    "print(\"Element---------->Datatype\")\n",
    "for i in range(len(List1)):    \n",
    "    print(f\"{List1[i]}-----------> {type(List1[i])}\")"
   ]
  },
  {
   "cell_type": "markdown",
   "id": "ab667d7b-6bcf-4113-9299-0ea94a451a95",
   "metadata": {},
   "source": [
    "# Q5. Using a while loop, verify if the number A is purely divisible by number B and if so then how many times it can be divisible.\n"
   ]
  },
  {
   "cell_type": "code",
   "execution_count": 11,
   "id": "e52cbb42-2561-4bc0-a981-0c011af322b0",
   "metadata": {},
   "outputs": [
    {
     "name": "stdin",
     "output_type": "stream",
     "text": [
      "Enter Number1--> 100\n",
      "Enter Number2--> 4\n"
     ]
    },
    {
     "name": "stdout",
     "output_type": "stream",
     "text": [
      "100 is purely divisible by 4 and 100 is divisible by 4  25.0 times\n"
     ]
    }
   ],
   "source": [
    "#Answer\n",
    "a = int(input(\"Enter Number1-->\"))\n",
    "b = int(input(\"Enter Number2-->\"))\n",
    "c = a/b\n",
    "if a%b == 0:\n",
    "    print(f\"{a} is purely divisible by {b} and {a} is divisible by {b}  {c} times\")\n",
    "else:\n",
    "    print(f\"{a} is not divisible by {5}\")\n",
    "        "
   ]
  },
  {
   "cell_type": "markdown",
   "id": "e020b2ae-4986-47c2-b299-9017ad92ace8",
   "metadata": {},
   "source": [
    "# Q6. Create a list containing 25 int type data. Using for loop and if-else condition print if the element is divisible by 3 or not."
   ]
  },
  {
   "cell_type": "code",
   "execution_count": 14,
   "id": "91f6eb72-0213-4f49-b6d2-22f5539202da",
   "metadata": {},
   "outputs": [
    {
     "name": "stdout",
     "output_type": "stream",
     "text": [
      "1 is not Divisible by 3\n",
      "2 is not Divisible by 3\n",
      "3 is Divisible by 3\n",
      "4 is not Divisible by 3\n",
      "5 is not Divisible by 3\n",
      "6 is Divisible by 3\n",
      "7 is not Divisible by 3\n",
      "8 is not Divisible by 3\n",
      "9 is Divisible by 3\n",
      "10 is not Divisible by 3\n",
      "11 is not Divisible by 3\n",
      "12 is Divisible by 3\n",
      "13 is not Divisible by 3\n",
      "14 is not Divisible by 3\n",
      "15 is Divisible by 3\n",
      "16 is not Divisible by 3\n",
      "17 is not Divisible by 3\n",
      "18 is Divisible by 3\n",
      "19 is not Divisible by 3\n",
      "20 is not Divisible by 3\n",
      "21 is Divisible by 3\n",
      "22 is not Divisible by 3\n",
      "23 is not Divisible by 3\n",
      "24 is Divisible by 3\n",
      "25 is not Divisible by 3\n"
     ]
    }
   ],
   "source": [
    "List1 = [1 ,2 ,3 , 4 ,5 ,6 ,7 ,8 ,9 ,10 ,11 ,12 ,13 ,14 ,15 ,16 ,17 ,18 ,19 ,20 ,21 ,22 ,23 ,24 ,25]\n",
    "for i in range(len(List1)):\n",
    "    if List1[i]%3 == 0:\n",
    "        print(f'{List1[i]} is Divisible by 3')\n",
    "    else:\n",
    "         print(f'{List1[i]} is not Divisible by 3')"
   ]
  },
  {
   "cell_type": "markdown",
   "id": "5541fb72-3695-442b-99af-2c9510b5b185",
   "metadata": {},
   "source": [
    "# Q7. What do you understand about mutable and immutable data types? Give examples for both showing this property."
   ]
  },
  {
   "cell_type": "markdown",
   "id": "09fd0d34-4201-4004-94aa-582bf703fe42",
   "metadata": {},
   "source": [
    "## Answer.\n",
    "     (i) Mutable data types are those whose values can be changed after they are created. Examples of mutable data types include lists, dictionaries, and sets. \n",
    "     (ii) Immutable data types are those whose values cannot be changed after they are created. Examples of immutable data types include strings, tuples, and numbers"
   ]
  },
  {
   "cell_type": "code",
   "execution_count": 16,
   "id": "28d7b815-acea-484a-96d9-4c6733fea968",
   "metadata": {},
   "outputs": [
    {
     "name": "stdout",
     "output_type": "stream",
     "text": [
      "[1, 4, 5, 7]\n"
     ]
    }
   ],
   "source": [
    "# Example of Mutability\n",
    "List1 = [ 1,4, 5, ' ramesh']\n",
    "List1[3] = 7\n",
    "print(List1)"
   ]
  },
  {
   "cell_type": "code",
   "execution_count": 17,
   "id": "e27eebc2-c982-47dc-99f4-9a4a1aeba045",
   "metadata": {},
   "outputs": [
    {
     "ename": "TypeError",
     "evalue": "'str' object does not support item assignment",
     "output_type": "error",
     "traceback": [
      "\u001b[0;31m---------------------------------------------------------------------------\u001b[0m",
      "\u001b[0;31mTypeError\u001b[0m                                 Traceback (most recent call last)",
      "Cell \u001b[0;32mIn[17], line 3\u001b[0m\n\u001b[1;32m      1\u001b[0m \u001b[38;5;66;03m# Example of immutability\u001b[39;00m\n\u001b[1;32m      2\u001b[0m name \u001b[38;5;241m=\u001b[39m \u001b[38;5;124m'\u001b[39m\u001b[38;5;124mSaurabh\u001b[39m\u001b[38;5;124m'\u001b[39m\n\u001b[0;32m----> 3\u001b[0m \u001b[43mname\u001b[49m\u001b[43m[\u001b[49m\u001b[38;5;241;43m3\u001b[39;49m\u001b[43m]\u001b[49m \u001b[38;5;241m=\u001b[39m \u001b[38;5;124m\"\u001b[39m\u001b[38;5;124mq\u001b[39m\u001b[38;5;124m\"\u001b[39m\n\u001b[1;32m      4\u001b[0m \u001b[38;5;28mprint\u001b[39m(name)\n",
      "\u001b[0;31mTypeError\u001b[0m: 'str' object does not support item assignment"
     ]
    }
   ],
   "source": [
    "# Example of immutability\n",
    "name = 'Saurabh'\n",
    "name[3] = \"q\"\n",
    "print(name)"
   ]
  },
  {
   "cell_type": "code",
   "execution_count": null,
   "id": "64c735d4-e05b-4053-a80e-ba5f112033b1",
   "metadata": {},
   "outputs": [],
   "source": []
  }
 ],
 "metadata": {
  "kernelspec": {
   "display_name": "Python 3 (ipykernel)",
   "language": "python",
   "name": "python3"
  },
  "language_info": {
   "codemirror_mode": {
    "name": "ipython",
    "version": 3
   },
   "file_extension": ".py",
   "mimetype": "text/x-python",
   "name": "python",
   "nbconvert_exporter": "python",
   "pygments_lexer": "ipython3",
   "version": "3.10.8"
  }
 },
 "nbformat": 4,
 "nbformat_minor": 5
}
