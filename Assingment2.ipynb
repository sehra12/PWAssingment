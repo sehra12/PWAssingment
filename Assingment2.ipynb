{
 "cells": [
  {
   "cell_type": "markdown",
   "id": "22b5e05c-bfb9-405b-bf0b-dc2f5e76b036",
   "metadata": {},
   "source": [
    "# Q1. How do you comment code in Python? What are the different types of comments?\n",
    "## Ans1) To Write a comment in python, we can use hash mark (#) before our desired comment . Python ignores everything after hash mark (#).\n",
    "# Types Of Comment\n",
    "##  1) Single -Line Comment--- These comments start with a hash mark (#) and continue until the end of the line. They are used to explain code or to make notes for yourself or other developers who might read your code later.\n",
    "##  2) Multi-line comments---- These comments start and end with three quotes (“”\"). They are used to explain larger blocks of code or to create documentation strings (docstrings) for functions, modules, or classes.\n",
    "##  3) Inline - comments---- These comments are placed on the same line as a statement and are separated from the statement by at least two spaces. They are used to explain specific parts of a statement"
   ]
  },
  {
   "cell_type": "markdown",
   "id": "6cfac68f-0e46-417e-b0e2-8aadc2f42d85",
   "metadata": {},
   "source": [
    "# Q2. What are variables in Python? How do you declare and assign values to variables?\n",
    "## Ans)  Variable is a container for storing data values. You can think of variables as a way to label data with a descriptive name so that you can use it later in your code.  To declare a variable in Python, you don’t need to use any special command. A variable is created the moment you first assign a value to it. Here’s an example"
   ]
  },
  {
   "cell_type": "code",
   "execution_count": 1,
   "id": "c8bc8aa1-88a4-40e9-a62a-a312bd14a3e7",
   "metadata": {},
   "outputs": [],
   "source": [
    "x = 7   # Here x is a variable storeing the value 5"
   ]
  },
  {
   "cell_type": "markdown",
   "id": "a970e146-fce3-47c5-bc5e-eba9d2aed84e",
   "metadata": {},
   "source": [
    "# Q3. How do you convert one data type to another in Python?\n",
    "# Ans) In Python, you can convert one data type to another using type conversion. There are several built-in functions in Python that allow you to convert one data type to another. For example"
   ]
  },
  {
   "cell_type": "code",
   "execution_count": 10,
   "id": "00bf69f1-67f4-4b92-bb9f-05ad86458ef4",
   "metadata": {},
   "outputs": [
    {
     "data": {
      "text/plain": [
       "int"
      ]
     },
     "execution_count": 10,
     "metadata": {},
     "output_type": "execute_result"
    }
   ],
   "source": [
    "x = '10'\n",
    "y = int(x)             # Converting String to intenger\n",
    "type(y)\n"
   ]
  },
  {
   "cell_type": "markdown",
   "id": "925e5b67-7857-48d5-ac6f-4c7c1282e3dc",
   "metadata": {},
   "source": [
    "# Q4. How do you write and execute a Python script from the command line?\n",
    "# Ans) To write and execute a Python script from the command line, you can follow these steps:\n",
    "## 1)Open your command prompt or terminal.\n",
    "## 2)Verify that your terminal or command prompt can run Python by typing python --version or python3 --version in the command prompt. If you see a version number, then Python is installed on your system.\n",
    "## 3)Create a Python script that is error-free. You can use any text editor to create your script.\n",
    "## 4) Save your script with a .py extension.\n",
    "## 5) Use the python or python3 command followed by the path to your script to run your script from the terminal."
   ]
  },
  {
   "cell_type": "markdown",
   "id": "fee33fb8-610f-4b2c-a924-3c8f35842956",
   "metadata": {},
   "source": [
    "# Q5. Given a list my_list = [1, 2, 3, 4, 5], write the code to slice the list and obtain the sub-list [2, 3]."
   ]
  },
  {
   "cell_type": "code",
   "execution_count": 2,
   "id": "32bb08ca-7c75-4b77-a02b-8671d067c4d5",
   "metadata": {},
   "outputs": [],
   "source": [
    "my_list = [1, 2, 3, 4, 5]\n",
    "sub_list = my_list[1:3]\n"
   ]
  },
  {
   "cell_type": "markdown",
   "id": "2760780d-0490-40fb-b50c-b9b70aa2ef0c",
   "metadata": {},
   "source": [
    "# Q6. What is a complex number in mathematics, and how is it represented in Python?\n",
    "# Ans) A complex number is a number that can be expressed in the form of a + bi, where a and b are real numbers and i is the imaginary unit, which satisfies the equation i^2 = -1 1. Complex numbers are used in mathematics, especially where square roots of negative numbers are involved . In Python, complex numbers can be created from two real numbers and an imaginary number that is the square root of -1. They can be written in the form of (x + yj) where x and y are real numbers and j is an imaginary number"
   ]
  },
  {
   "cell_type": "markdown",
   "id": "d7b07f87-0525-45c3-8c7c-7f83f1d49adf",
   "metadata": {},
   "source": [
    "# Q7. What is the correct way to declare a variable named age and assign the value 25 to it?\n",
    "# Ans) To declare a variable named age and assign the value 25 to it in Python, you can use the following code"
   ]
  },
  {
   "cell_type": "code",
   "execution_count": 3,
   "id": "5ee16405-9ece-4da1-817e-428de32cc90d",
   "metadata": {},
   "outputs": [
    {
     "name": "stdout",
     "output_type": "stream",
     "text": [
      "25\n"
     ]
    }
   ],
   "source": [
    "Age = 25\n",
    "print(Age)"
   ]
  },
  {
   "cell_type": "markdown",
   "id": "1c74d35b-909d-4f0d-ab12-ae39b254d928",
   "metadata": {},
   "source": [
    "# Q8. Declare a variable named price and assign the value 9.99 to it. What data type does this variabe belongs to ?\n",
    "# Ans) To declare a variable named price and assign the value 9.99 to it in python , we can use following code and 9.99 belongs to float data type"
   ]
  },
  {
   "cell_type": "code",
   "execution_count": 5,
   "id": "0c6bada1-797c-43be-859b-c11e941722b2",
   "metadata": {},
   "outputs": [
    {
     "name": "stdout",
     "output_type": "stream",
     "text": [
      "<class 'float'>\n",
      "9.99\n"
     ]
    }
   ],
   "source": [
    "price = 9.99\n",
    "print(type(price))\n",
    "print(price)"
   ]
  },
  {
   "cell_type": "markdown",
   "id": "102ff9dc-1ab3-446c-95d4-e290a87b5be8",
   "metadata": {},
   "source": [
    "# Q9. Create a variable named name and assign your full name to it as a string. How would you print the value of this variable?\n",
    "# Ans) To declare variable named name ,assign it our full name and print value of variable , we can use following code\n",
    "\n"
   ]
  },
  {
   "cell_type": "code",
   "execution_count": 6,
   "id": "a204ceec-222a-449d-9f63-3303990fe306",
   "metadata": {},
   "outputs": [
    {
     "name": "stdout",
     "output_type": "stream",
     "text": [
      "Saurabh Sehra\n"
     ]
    }
   ],
   "source": [
    "name = 'Saurabh Sehra'\n",
    "print(name)"
   ]
  },
  {
   "cell_type": "markdown",
   "id": "4e9b46bc-043c-4334-bda0-1c987c0a9037",
   "metadata": {},
   "source": [
    "# Q10. Given the string \"Hello, World!\", extract the substring \"World\".\n",
    "# Ans) For above questin we can use following coode:"
   ]
  },
  {
   "cell_type": "code",
   "execution_count": 8,
   "id": "4b57b7ad-268d-405f-9c08-ae6b3656ecfc",
   "metadata": {},
   "outputs": [
    {
     "name": "stdout",
     "output_type": "stream",
     "text": [
      "World\n"
     ]
    }
   ],
   "source": [
    "String = \"Hello, World!\"\n",
    "substring = String[7:12]                 # Extracting Sub String\n",
    "print(substring)"
   ]
  },
  {
   "cell_type": "markdown",
   "id": "7ba81d0e-ef1d-4c4b-a796-a60a804f7b1f",
   "metadata": {},
   "source": [
    "# Q11. Create a variable named \"is_student\" and assign it a boolean value indicating whether you are currently a student or not.\n",
    "# Ans)  For above questin we can use following coode:\n"
   ]
  },
  {
   "cell_type": "code",
   "execution_count": 9,
   "id": "e99aa88a-0a07-4db7-b032-ed43df2cd50d",
   "metadata": {},
   "outputs": [],
   "source": [
    "is_student = True"
   ]
  },
  {
   "cell_type": "code",
   "execution_count": null,
   "id": "4c6c5a07-e302-40fe-b8ea-eb9d1034f21e",
   "metadata": {},
   "outputs": [],
   "source": []
  },
  {
   "cell_type": "code",
   "execution_count": null,
   "id": "32c49aa3-5c0c-4490-9c23-bde7279752a9",
   "metadata": {},
   "outputs": [],
   "source": []
  }
 ],
 "metadata": {
  "kernelspec": {
   "display_name": "Python 3 (ipykernel)",
   "language": "python",
   "name": "python3"
  },
  "language_info": {
   "codemirror_mode": {
    "name": "ipython",
    "version": 3
   },
   "file_extension": ".py",
   "mimetype": "text/x-python",
   "name": "python",
   "nbconvert_exporter": "python",
   "pygments_lexer": "ipython3",
   "version": "3.10.8"
  }
 },
 "nbformat": 4,
 "nbformat_minor": 5
}
